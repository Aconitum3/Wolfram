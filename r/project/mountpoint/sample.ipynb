{
 "cells": [
  {
   "cell_type": "code",
   "execution_count": null,
   "id": "36b0199b-34d5-41b3-8a56-2e7b23f7d3a2",
   "metadata": {
    "vscode": {
     "languageId": "r"
    }
   },
   "outputs": [],
   "source": [
    "source(\"/WolframConnect.R\")"
   ]
  },
  {
   "cell_type": "code",
   "execution_count": null,
   "id": "3d34155e-2109-446b-a166-93b6f085ccef",
   "metadata": {
    "vscode": {
     "languageId": "r"
    }
   },
   "outputs": [],
   "source": [
    "wolfram_evaluate(\"1+1\")"
   ]
  },
  {
   "cell_type": "code",
   "execution_count": null,
   "id": "8cebd119-2289-4c38-9968-7b8503a449a8",
   "metadata": {
    "vscode": {
     "languageId": "r"
    }
   },
   "outputs": [],
   "source": [
    "wolfram_evaluate(r\"(NIntegrate[E^(-x^3), {x, 0, \\[Infinity]}] // AbsoluteTiming)\")"
   ]
  }
 ],
 "metadata": {
  "kernelspec": {
   "display_name": "R",
   "language": "R",
   "name": "ir"
  },
  "language_info": {
   "codemirror_mode": "r",
   "file_extension": ".r",
   "mimetype": "text/x-r-source",
   "name": "R",
   "pygments_lexer": "r",
   "version": "4.0.4"
  }
 },
 "nbformat": 4,
 "nbformat_minor": 5
}
