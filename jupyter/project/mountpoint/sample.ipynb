{
 "cells": [
  {
   "cell_type": "code",
   "execution_count": null,
   "id": "2385f340-5fcb-4ed4-a631-d6f5c7247d85",
   "metadata": {
    "vscode": {
     "languageId": "wolfram language"
    }
   },
   "outputs": [],
   "source": [
    "Plot3D[Sin[x y], {x, -Pi,Pi}, {y, -Pi, Pi}]"
   ]
  },
  {
   "cell_type": "code",
   "execution_count": null,
   "id": "bf73aae0-38ea-4800-9c29-20f076330d69",
   "metadata": {
    "vscode": {
     "languageId": "wolfram language"
    }
   },
   "outputs": [],
   "source": [
    "mu=0;\n",
    "sig=1;"
   ]
  },
  {
   "cell_type": "code",
   "execution_count": null,
   "id": "93e537aa-f4dc-4ccd-be33-634467a7930a",
   "metadata": {
    "vscode": {
     "languageId": "wolfram language"
    }
   },
   "outputs": [],
   "source": [
    "f[x_]:=1/(Sqrt[2*Pi*sig^2])*(Exp[-1/(2*sig^2)*(x-mu)^2]);"
   ]
  },
  {
   "cell_type": "code",
   "execution_count": null,
   "id": "2c50c186-a572-4b74-ad82-7fc131af3199",
   "metadata": {
    "vscode": {
     "languageId": "wolfram language"
    }
   },
   "outputs": [],
   "source": [
    "Plot[f[x],{x,-3,3}]"
   ]
  },
  {
   "cell_type": "code",
   "execution_count": null,
   "id": "9fa11e67-323e-4558-b909-2221bccd85a9",
   "metadata": {
    "vscode": {
     "languageId": "wolfram language"
    }
   },
   "outputs": [],
   "source": [
    "F=Integrate[f[x],{x,-Infinity,t}];"
   ]
  },
  {
   "cell_type": "code",
   "execution_count": null,
   "id": "3c7683d8-8197-4518-924c-9f97ba731580",
   "metadata": {
    "vscode": {
     "languageId": "wolfram language"
    }
   },
   "outputs": [],
   "source": [
    "Plot[F,{t,0,5}]"
   ]
  }
 ],
 "metadata": {
  "kernelspec": {
   "display_name": "Wolfram Language 13",
   "language": "Wolfram Language",
   "name": "wolframlanguage13"
  },
  "language_info": {
   "codemirror_mode": "mathematica",
   "file_extension": ".m",
   "mimetype": "application/vnd.wolfram.m",
   "name": "Wolfram Language",
   "pygments_lexer": "mathematica",
   "version": "12.0"
  }
 },
 "nbformat": 4,
 "nbformat_minor": 5
}
